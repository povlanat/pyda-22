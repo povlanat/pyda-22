{
 "cells": [
  {
   "cell_type": "code",
   "execution_count": 6,
   "id": "b10fe0d5",
   "metadata": {},
   "outputs": [
    {
     "name": "stdout",
     "output_type": "stream",
     "text": [
      "Фраза 1 длиннее фразы 2\n"
     ]
    }
   ],
   "source": [
    "#Задание 1\n",
    "phrase_1 = 'Насколько проще было бы писать программы, если бы не заказчики'\n",
    "phrase_2 = '640Кб должно хватить для любых задач. Билл Гейтс (по легенде)'\n",
    "if len(phrase_1)>len(phrase_2):\n",
    "    print('Фраза 1 длиннее фразы 2')\n",
    "elif len(phrase_1)<len(phrase_2):\n",
    "    print('Фраза 2 длиннее фразы 1')\n",
    "else:\n",
    "    print('Фразы равной длины')"
   ]
  },
  {
   "cell_type": "code",
   "execution_count": 11,
   "id": "621d93b8",
   "metadata": {},
   "outputs": [
    {
     "name": "stdout",
     "output_type": "stream",
     "text": [
      "Обычный год\n"
     ]
    }
   ],
   "source": [
    "#Задание 2\n",
    "year = 2019\n",
    "if year%4==0:\n",
    "    print('Високосный год')\n",
    "else:\n",
    "    print('Обычный год')"
   ]
  },
  {
   "cell_type": "code",
   "execution_count": 16,
   "id": "862a59de",
   "metadata": {},
   "outputs": [
    {
     "name": "stdout",
     "output_type": "stream",
     "text": [
      "Введите день3\n",
      "Введите месяцДекабрь\n",
      "Ваш знак зодиака: Стрелец\n"
     ]
    }
   ],
   "source": [
    "#Задание 3\n",
    "day=int(input('Введите день'))\n",
    "month=input('Введите месяц')\n",
    "if month=='Январь':\n",
    "    if day<21:\n",
    "        print('Ваш знак зодиака: Козерог')\n",
    "    else:\n",
    "        print('Ваш знак зодиака: Водолей')\n",
    "if month=='Февраль':\n",
    "    if day<19:\n",
    "        print('Ваш знак зодиака: Водолей')\n",
    "    else:\n",
    "        print('Ваш знак зодиака: Рыбы')\n",
    "if month=='Март':\n",
    "    if day<21:\n",
    "        print('Ваш знак зодиака: Рыбы')\n",
    "    else:\n",
    "        print('Ваш знак зодиака: Овен')\n",
    "if month=='Апрель':\n",
    "    if day<20:\n",
    "        print('Ваш знак зодиака: Овен')\n",
    "    else:\n",
    "        print('Ваш знак зодиака: Телец')\n",
    "if month=='Май':\n",
    "    if day<21:\n",
    "        print('Ваш знак зодиака: Телец')\n",
    "    else:\n",
    "        print('Ваш знак зодиака: Близнецы')\n",
    "if month=='Июнь':\n",
    "    if day<22:\n",
    "        print('Ваш знак зодиака: Близнецы')\n",
    "    else:\n",
    "        print('Ваш знак зодиака: Рак')\n",
    "if month=='Июль':\n",
    "    if day<23:\n",
    "        print('Ваш знак зодиака: Рак')\n",
    "    else:\n",
    "        print('Ваш знак зодиака: Лев')\n",
    "if month=='Август':\n",
    "    if day<23:\n",
    "        print('Ваш знак зодиака: Лев')\n",
    "    else:\n",
    "        print('Ваш знак зодиака: Дева')\n",
    "if month=='Сентябрь':\n",
    "    if day<23:\n",
    "        print('Ваш знак зодиака: Дева')\n",
    "    else:\n",
    "        print('Ваш знак зодиака: Весы')\n",
    "if month=='Октябрь':\n",
    "    if day<24:\n",
    "        print('Ваш знак зодиака: Весы')\n",
    "    else:\n",
    "        print('Ваш знак зодиака: Скорпион')\n",
    "if month=='Ноябрь':\n",
    "    if day<23:\n",
    "        print('Ваш знак зодиака: Скорпион')\n",
    "    else:\n",
    "        print('Ваш знак зодиака: Стрелец')\n",
    "if month=='Декабрь':\n",
    "    if day<22:\n",
    "        print('Ваш знак зодиака: Стрелец')\n",
    "    else:\n",
    "        print('Ваш знак зодиака: Козерог')"
   ]
  },
  {
   "cell_type": "code",
   "execution_count": 25,
   "id": "29b5cb95",
   "metadata": {},
   "outputs": [
    {
     "name": "stdout",
     "output_type": "stream",
     "text": [
      "Коробка №2\n"
     ]
    }
   ],
   "source": [
    "#Задание 4\n",
    "width = 10\n",
    "length = 16\n",
    "height = 5\n",
    "if length>200:\n",
    "    print('Упаковка для лыж')\n",
    "else:\n",
    "    if ((width<15) and (length<15) and (height<15)):\n",
    "        print('Коробка №1')\n",
    "    elif ((50>width>=15) or (50>length>=15) or (50>height>=15)):\n",
    "        print('Коробка №2')\n",
    "    else:\n",
    "        print('Стандартная коробка №3')"
   ]
  }
 ],
 "metadata": {
  "kernelspec": {
   "display_name": "Python 3",
   "language": "python",
   "name": "python3"
  },
  "language_info": {
   "codemirror_mode": {
    "name": "ipython",
    "version": 3
   },
   "file_extension": ".py",
   "mimetype": "text/x-python",
   "name": "python",
   "nbconvert_exporter": "python",
   "pygments_lexer": "ipython3",
   "version": "3.8.8"
  }
 },
 "nbformat": 4,
 "nbformat_minor": 5
}

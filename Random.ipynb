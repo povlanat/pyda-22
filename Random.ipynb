{
 "cells": [
  {
   "cell_type": "code",
   "execution_count": 61,
   "id": "36f80514",
   "metadata": {},
   "outputs": [
    {
     "name": "stdout",
     "output_type": "stream",
     "text": [
      "-0.298039\n"
     ]
    }
   ],
   "source": [
    "import numpy as np\n",
    "\n",
    "trials = 1000000    # Количество попыток\n",
    "bank = 0         # Изначальное количество денег(будем считать, что может уйти в долг)\n",
    "\n",
    "\n",
    "for i in range(trials):\n",
    "    bank -=1\n",
    "    number = np.random.randint(0, 999)\n",
    "    if number == 777:\n",
    "        bank+=200\n",
    "    elif number == 999:\n",
    "        bank+=100\n",
    "    elif number == 555:\n",
    "        bank+=50\n",
    "    elif number == 333:\n",
    "        bank+=15\n",
    "    elif number == 111:\n",
    "        bank+=10\n",
    "    elif number%10 == 7:\n",
    "        if number%100 ==77:\n",
    "            bank+=5\n",
    "        else:\n",
    "            bank+=3\n",
    "    elif number%10 == 0:\n",
    "        if number%100 ==0:\n",
    "            bank+=2\n",
    "        else:\n",
    "            bank+=1\n",
    "\n",
    "print(bank/trials)\n",
    "        \n",
    "        "
   ]
  },
  {
   "cell_type": "code",
   "execution_count": 11,
   "id": "8928ebb5",
   "metadata": {},
   "outputs": [
    {
     "data": {
      "text/plain": [
       "7"
      ]
     },
     "execution_count": 11,
     "metadata": {},
     "output_type": "execute_result"
    }
   ],
   "source": [
    "#Игра невыгодна игроку, так как в среднем за игру он теряет 0,3 рубля"
   ]
  },
  {
   "cell_type": "code",
   "execution_count": null,
   "id": "6f2c1e0a",
   "metadata": {},
   "outputs": [],
   "source": []
  }
 ],
 "metadata": {
  "kernelspec": {
   "display_name": "Python 3",
   "language": "python",
   "name": "python3"
  },
  "language_info": {
   "codemirror_mode": {
    "name": "ipython",
    "version": 3
   },
   "file_extension": ".py",
   "mimetype": "text/x-python",
   "name": "python",
   "nbconvert_exporter": "python",
   "pygments_lexer": "ipython3",
   "version": "3.8.8"
  }
 },
 "nbformat": 4,
 "nbformat_minor": 5
}

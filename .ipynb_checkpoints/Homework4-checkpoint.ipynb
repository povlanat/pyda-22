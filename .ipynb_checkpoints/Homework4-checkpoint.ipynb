{
 "cells": [
  {
   "cell_type": "code",
   "execution_count": 72,
   "id": "f0c87705",
   "metadata": {},
   "outputs": [],
   "source": [
    "documents = [\n",
    "{'type': 'passport', 'number': '2207 876234', 'name': 'Василий Гупкин'},\n",
    "{'type': 'invoice', 'number': '11-2', 'name' : 'Геннадий Покемонов'},\n",
    "{'type': 'insurance', 'number': '10006', 'name': 'Аристарх Павлов'}\n",
    "]\n",
    "directories = {\n",
    "'1': ['2207 876234', '11-2'],\n",
    "'2': ['10006'],\n",
    "'3': []\n",
    "}\n"
   ]
  },
  {
   "cell_type": "code",
   "execution_count": 73,
   "id": "b939eb0f",
   "metadata": {},
   "outputs": [],
   "source": [
    "def name():\n",
    "    n = input('Введите номер документа: ')\n",
    "    k = 0\n",
    "    for doc in documents:\n",
    "        if doc['number'] == n:\n",
    "            print (f\"Владелец документа: {doc['name']}\")\n",
    "            k = 1\n",
    "    if k == 0:\n",
    "        print('Владелец документа не найден')"
   ]
  },
  {
   "cell_type": "code",
   "execution_count": 74,
   "id": "33d5c970",
   "metadata": {},
   "outputs": [],
   "source": [
    "def shelf(m = None):\n",
    "    s = 0\n",
    "    if m is None:\n",
    "        n = input('Введите номер документа: ')\n",
    "    else:\n",
    "        n = m\n",
    "    for dir_ in directories:\n",
    "        if n in directories[dir_]:\n",
    "            s = dir_\n",
    "    return s"
   ]
  },
  {
   "cell_type": "code",
   "execution_count": 75,
   "id": "0452cb69",
   "metadata": {},
   "outputs": [],
   "source": [
    "def shelf_find(k):\n",
    "    if k == 0:\n",
    "        print('Документ не найден в базе')\n",
    "    else:\n",
    "        print(f\"Документ хранится на полке: {k}\")"
   ]
  },
  {
   "cell_type": "code",
   "execution_count": 76,
   "id": "9b74a07e",
   "metadata": {},
   "outputs": [],
   "source": [
    "def doc_list():\n",
    "    for doc in documents:\n",
    "        print(f\"№:{doc['number']}, тип:{doc['type']}, владелец: {doc['name']}, полка хранения: {shelf(doc['number'])}\")"
   ]
  },
  {
   "cell_type": "code",
   "execution_count": 77,
   "id": "15e7b926",
   "metadata": {},
   "outputs": [],
   "source": [
    "def shelf_add():\n",
    "    n = input('Введите номер полки: ')\n",
    "    if n in directories:\n",
    "        print(f\"Такая полка уже существует. Текущий перечень полок: {' '.join(list(directories.keys()))}\")\n",
    "    else:\n",
    "        directories[n]=[]\n",
    "        print(f\"Полка добавлена. Текущий перечень полок: {' '.join(list(directories.keys()))}\")"
   ]
  },
  {
   "cell_type": "code",
   "execution_count": 78,
   "id": "8ba7a72c",
   "metadata": {},
   "outputs": [],
   "source": [
    "def shelf_delete():\n",
    "    n = input('Введите номер полки: ')\n",
    "    if n in directories and len(directories[n]) == 0:\n",
    "        del directories[n]\n",
    "        print(f\"Полка удалена. Текущий перечень полок: {' '.join(list(directories.keys()))}\")\n",
    "    elif n in directories and len(directories[n]) != 0:\n",
    "        print(f\"На полке есть документа, удалите их перед удалением полки. Текущий перечень полок: {' '.join(list(directories.keys()))}\")\n",
    "    else:\n",
    "        print(f\"Такой полки не существует. Текущий перечень полок: {' '.join(list(directories.keys()))}\")"
   ]
  },
  {
   "cell_type": "code",
   "execution_count": null,
   "id": "301744fd",
   "metadata": {},
   "outputs": [
    {
     "name": "stdout",
     "output_type": "stream",
     "text": [
      "Введите команду: p\n",
      "Введите номер документа: 11-2\n",
      "Владелец документа: Геннадий Покемонов\n",
      "Введите команду: s\n",
      "Введите номер документа: 11-2\n",
      "Документ хранится на полке: 1\n",
      "Введите команду: as\n",
      "Введите номер полки: 1\n",
      "Такая полка уже существует. Текущий перечень полок: 1 2 3\n",
      "Введите команду: l\n",
      "№:2207 876234, тип:passport, владелец: Василий Гупкин, полка хранения: 1\n",
      "№:11-2, тип:invoice, владелец: Геннадий Покемонов, полка хранения: 1\n",
      "№:10006, тип:insurance, владелец: Аристарх Павлов, полка хранения: 2\n",
      "Введите команду: ds\n",
      "Введите номер полки: 10\n",
      "Такой полки не существует. Текущий перечень полок: 1 2 3\n"
     ]
    }
   ],
   "source": [
    "def main():\n",
    "    while True:\n",
    "        user_input = input('Введите команду: ')\n",
    "        if user_input == 'p':\n",
    "            name()\n",
    "        elif user_input == 's':\n",
    "            shelf_find(shelf())\n",
    "        elif user_input == 'l':\n",
    "            doc_list()\n",
    "        elif user_input == 'as':\n",
    "            shelf_add()\n",
    "        elif user_input == 'ds':\n",
    "            shelf_delete()\n",
    "        elif user_input == 'q':\n",
    "            print('До свидания!')\n",
    "            break\n",
    "main()"
   ]
  }
 ],
 "metadata": {
  "kernelspec": {
   "display_name": "Python 3",
   "language": "python",
   "name": "python3"
  },
  "language_info": {
   "codemirror_mode": {
    "name": "ipython",
    "version": 3
   },
   "file_extension": ".py",
   "mimetype": "text/x-python",
   "name": "python",
   "nbconvert_exporter": "python",
   "pygments_lexer": "ipython3",
   "version": "3.8.8"
  }
 },
 "nbformat": 4,
 "nbformat_minor": 5
}

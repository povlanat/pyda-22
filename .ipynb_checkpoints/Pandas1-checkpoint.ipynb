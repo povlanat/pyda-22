{
 "cells": [
  {
   "cell_type": "code",
   "execution_count": 93,
   "id": "ac1ab787",
   "metadata": {},
   "outputs": [
    {
     "data": {
      "text/plain": [
       "0    Shawshank Redemption, The (1994)\n",
       "Name: title, dtype: object"
      ]
     },
     "execution_count": 93,
     "metadata": {},
     "output_type": "execute_result"
    }
   ],
   "source": [
    "import pandas as pd\n",
    "data1 = pd.read_csv('C:\\\\python\\\\pyda-22\\\\ml-latest-small\\\\ratings.csv')\n",
    "data2 = pd.read_csv('C:\\\\python\\\\pyda-22\\\\ml-latest-small\\\\movies.csv')\n",
    "data1 = data1.loc[data['rating'] == 5.0].groupby('movieId').count().sort_values('rating', ascending=False).head()\n",
    "result = pd.merge(data1, data2, on = ['movieId'])\n",
    "result['title'].head(1)"
   ]
  },
  {
   "cell_type": "code",
   "execution_count": 92,
   "id": "9491e540",
   "metadata": {},
   "outputs": [
    {
     "name": "stdout",
     "output_type": "stream",
     "text": [
      "Суммарное потребление стран Прибалтики = 240580.0\n"
     ]
    }
   ],
   "source": [
    "dt = pd.read_csv('power.csv')\n",
    "#отфильтруем по категориям\n",
    "dt_1 = dt[(dt.category == 4) | (dt.category == 12) | (dt.category == 21)]\n",
    "dt_1\n",
    "#отфильтруем по странам\n",
    "dt_2 = dt_1[(dt_1.country == 'Latvia') | (dt_1.country == 'Estonia') | (dt_1.country == 'Lithuania')]\n",
    "#отфильтруем по годам\n",
    "dt_3 = dt_2[(dt_2.year >= 2005) & (dt_2.year <= 2010)]\n",
    "#отфильтруем по количеству\n",
    "dt_4 = dt_3[(dt_3.quantity >= 0)]\n",
    "print(f'Суммарное потребление стран Прибалтики = {sum(dt_4[\"quantity\"])}')"
   ]
  },
  {
   "cell_type": "code",
   "execution_count": 104,
   "id": "34339243",
   "metadata": {},
   "outputs": [
    {
     "data": {
      "text/html": [
       "<div>\n",
       "<style scoped>\n",
       "    .dataframe tbody tr th:only-of-type {\n",
       "        vertical-align: middle;\n",
       "    }\n",
       "\n",
       "    .dataframe tbody tr th {\n",
       "        vertical-align: top;\n",
       "    }\n",
       "\n",
       "    .dataframe thead th {\n",
       "        text-align: right;\n",
       "    }\n",
       "</style>\n",
       "<table border=\"1\" class=\"dataframe\">\n",
       "  <thead>\n",
       "    <tr style=\"text-align: right;\">\n",
       "      <th></th>\n",
       "      <th>Название</th>\n",
       "      <th>Цена</th>\n",
       "      <th>Изменение</th>\n",
       "      <th>Изменение(%)</th>\n",
       "      <th>Обновлено</th>\n",
       "    </tr>\n",
       "  </thead>\n",
       "  <tbody>\n",
       "    <tr>\n",
       "      <th>0</th>\n",
       "      <td>FXIT</td>\n",
       "      <td>11 279.0</td>\n",
       "      <td>36.0000</td>\n",
       "      <td>0.3000</td>\n",
       "      <td>NaN</td>\n",
       "    </tr>\n",
       "    <tr>\n",
       "      <th>1</th>\n",
       "      <td>FXRU</td>\n",
       "      <td>961.5</td>\n",
       "      <td>-0.1000</td>\n",
       "      <td>-0.0000</td>\n",
       "      <td>NaN</td>\n",
       "    </tr>\n",
       "    <tr>\n",
       "      <th>2</th>\n",
       "      <td>FXDE</td>\n",
       "      <td>3 167.0</td>\n",
       "      <td>15.0000</td>\n",
       "      <td>0.5000</td>\n",
       "      <td>NaN</td>\n",
       "    </tr>\n",
       "    <tr>\n",
       "      <th>3</th>\n",
       "      <td>FXCN</td>\n",
       "      <td>3 730.0</td>\n",
       "      <td>18.5000</td>\n",
       "      <td>0.5000</td>\n",
       "      <td>NaN</td>\n",
       "    </tr>\n",
       "    <tr>\n",
       "      <th>4</th>\n",
       "      <td>FXGD</td>\n",
       "      <td>904.80</td>\n",
       "      <td>-1.2000</td>\n",
       "      <td>-0.1300</td>\n",
       "      <td>NaN</td>\n",
       "    </tr>\n",
       "    <tr>\n",
       "      <th>5</th>\n",
       "      <td>FXWO</td>\n",
       "      <td>1.8710</td>\n",
       "      <td>-0.0022</td>\n",
       "      <td>-0.1174</td>\n",
       "      <td>NaN</td>\n",
       "    </tr>\n",
       "  </tbody>\n",
       "</table>\n",
       "</div>"
      ],
      "text/plain": [
       "  Название      Цена  Изменение  Изменение(%)  Обновлено\n",
       "0     FXIT  11 279.0    36.0000        0.3000        NaN\n",
       "1     FXRU     961.5    -0.1000       -0.0000        NaN\n",
       "2     FXDE   3 167.0    15.0000        0.5000        NaN\n",
       "3     FXCN   3 730.0    18.5000        0.5000        NaN\n",
       "4     FXGD    904.80    -1.2000       -0.1300        NaN\n",
       "5     FXWO    1.8710    -0.0022       -0.1174        NaN"
      ]
     },
     "execution_count": 104,
     "metadata": {},
     "output_type": "execute_result"
    }
   ],
   "source": [
    "import pymysql\n",
    "pd.read_html('https://fortrader.org/quotes')[5]"
   ]
  },
  {
   "cell_type": "code",
   "execution_count": 98,
   "id": "7ce7675c",
   "metadata": {},
   "outputs": [
    {
     "name": "stdout",
     "output_type": "stream",
     "text": [
      "Collecting PyMySQL\n",
      "  Downloading PyMySQL-1.0.2-py3-none-any.whl (43 kB)\n",
      "Installing collected packages: PyMySQL\n",
      "Successfully installed PyMySQL-1.0.2\n"
     ]
    }
   ],
   "source": [
    "!python -m pip install PyMySQL"
   ]
  }
 ],
 "metadata": {
  "kernelspec": {
   "display_name": "Python 3",
   "language": "python",
   "name": "python3"
  },
  "language_info": {
   "codemirror_mode": {
    "name": "ipython",
    "version": 3
   },
   "file_extension": ".py",
   "mimetype": "text/x-python",
   "name": "python",
   "nbconvert_exporter": "python",
   "pygments_lexer": "ipython3",
   "version": "3.8.8"
  }
 },
 "nbformat": 4,
 "nbformat_minor": 5
}

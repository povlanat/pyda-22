{
 "cells": [
  {
   "cell_type": "code",
   "execution_count": 41,
   "id": "e57df96f",
   "metadata": {},
   "outputs": [],
   "source": [
    "import codecs\n",
    "f = codecs.open('purchase_log.txt', 'r', encoding='utf-8')\n",
    "content = f.readlines()\n",
    "f.close()"
   ]
  },
  {
   "cell_type": "code",
   "execution_count": 46,
   "id": "671a8c06",
   "metadata": {},
   "outputs": [],
   "source": [
    "import json\n",
    "for i in content[1:]:\n",
    "    i.strip('\\n')\n",
    "    k  = json.loads(i)\n",
    "    purchases[k['user_id']] = k['category']"
   ]
  },
  {
   "cell_type": "code",
   "execution_count": 69,
   "id": "5c8bc266",
   "metadata": {},
   "outputs": [],
   "source": [
    "with open('visit_log.csv', 'r') as f:\n",
    "    with open('funnel.csv', 'w') as f_1:\n",
    "        c = f.readline().strip('\\n')\n",
    "        f_1.write(c + ',category\\n')\n",
    "        for line in f:\n",
    "            line_ = line.strip('\\n').split(',')\n",
    "            if line_[0] in purchases:\n",
    "                f_1.write(line.strip('\\n') + ',' + purchases[line_[0]] + '\\n')\n",
    "        f_1.close()\n",
    "    f.close()\n",
    "\n"
   ]
  }
 ],
 "metadata": {
  "kernelspec": {
   "display_name": "Python 3",
   "language": "python",
   "name": "python3"
  },
  "language_info": {
   "codemirror_mode": {
    "name": "ipython",
    "version": 3
   },
   "file_extension": ".py",
   "mimetype": "text/x-python",
   "name": "python",
   "nbconvert_exporter": "python",
   "pygments_lexer": "ipython3",
   "version": "3.8.8"
  }
 },
 "nbformat": 4,
 "nbformat_minor": 5
}

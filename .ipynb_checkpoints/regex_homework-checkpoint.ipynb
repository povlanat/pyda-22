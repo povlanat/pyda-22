{
 "cells": [
  {
   "cell_type": "code",
   "execution_count": 31,
   "id": "4c3cb017",
   "metadata": {},
   "outputs": [
    {
     "name": "stdout",
     "output_type": "stream",
     "text": [
      "Номер А222ВС96 валиден. Регион: 96\n"
     ]
    }
   ],
   "source": [
    "import re\n",
    "car_id1 = 'А222ВС96'\n",
    "car_id2 = 'АБ22ВВ193'\n",
    "\n",
    "def number_car(id_):\n",
    "    pattern = r'[АВЕКМНОРСТУХ]\\d{3}[АВЕКМНОРСТУХ]{2}\\d{2,3}'\n",
    "    if len(re.findall(pattern, id_)) !=0:\n",
    "        region = re.findall(r'\\d{2,3}$', id_)[0]\n",
    "        print(f'Номер {id_} валиден. Регион: {region}')\n",
    "    else:\n",
    "        print('Номер не валиден')\n",
    "\n",
    "number_car(car_id1)"
   ]
  },
  {
   "cell_type": "code",
   "execution_count": 60,
   "id": "4e0f39c8",
   "metadata": {},
   "outputs": [
    {
     "data": {
      "text/plain": [
       "'Напишите функцию, которая будет удалять все последовательные повторы слов из заданной строки при помощи регулярных выражений'"
      ]
     },
     "execution_count": 60,
     "metadata": {},
     "output_type": "execute_result"
    }
   ],
   "source": [
    "some_string = 'Напишите функцию функцию, которая будет будет будет будет удалять все все все все последовательные повторы слов из из из из заданной строки строки при помощи регулярных выражений'\n",
    "def del_rep(string):\n",
    "    return re.sub(r'(\\b\\s\\w+\\b)\\1+', r'\\1', string)\n",
    "\n",
    "del_rep(some_string)"
   ]
  },
  {
   "cell_type": "code",
   "execution_count": 62,
   "id": "2f2d2417",
   "metadata": {},
   "outputs": [
    {
     "data": {
      "text/plain": [
       "'NFC'"
      ]
     },
     "execution_count": 62,
     "metadata": {},
     "output_type": "execute_result"
    }
   ],
   "source": [
    "some_words = 'Near Field Communication'\n",
    "def acr(string):\n",
    "    acr = ''\n",
    "    for string in re.findall(r'(\\b\\w+\\b)', some_words):\n",
    "        acr = acr+string[0].upper()\n",
    "    return acr\n",
    "\n",
    "acr(some_words)"
   ]
  },
  {
   "cell_type": "code",
   "execution_count": 81,
   "id": "32162fc3",
   "metadata": {},
   "outputs": [
    {
     "data": {
      "text/plain": [
       "{'gmail.com': 2, 'test.in': 1, 'ya.ru': 2, 'mail.ru': 1}"
      ]
     },
     "execution_count": 81,
     "metadata": {},
     "output_type": "execute_result"
    }
   ],
   "source": [
    "emails = ['test@gmail.com', 'xyz@test.in', 'test@ya.ru', 'xyz@mail.ru', 'xyz@ya.ru', 'xyz@gmail.com']\n",
    "\n",
    "def domen(list_):\n",
    "    dict_={}\n",
    "    for mail in list_:\n",
    "        k = re.findall(r'(?<=@)\\w+[.]\\w+', mail)[0]\n",
    "        if k in dict_:\n",
    "            dict_[k]+=1\n",
    "        else:\n",
    "            dict_[k] = 1\n",
    "    return dict_\n",
    "\n",
    "domen(emails)"
   ]
  }
 ],
 "metadata": {
  "kernelspec": {
   "display_name": "Python 3",
   "language": "python",
   "name": "python3"
  },
  "language_info": {
   "codemirror_mode": {
    "name": "ipython",
    "version": 3
   },
   "file_extension": ".py",
   "mimetype": "text/x-python",
   "name": "python",
   "nbconvert_exporter": "python",
   "pygments_lexer": "ipython3",
   "version": "3.8.8"
  }
 },
 "nbformat": 4,
 "nbformat_minor": 5
}

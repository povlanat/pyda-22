{
 "cells": [
  {
   "cell_type": "code",
   "execution_count": 10,
   "id": "88e209ef",
   "metadata": {},
   "outputs": [
    {
     "name": "stdout",
     "output_type": "stream",
     "text": [
      "{98, 35, 15, 213, 54, 119}\n"
     ]
    }
   ],
   "source": [
    "#Задание_1\n",
    "\n",
    "ids = {'user1': [213, 213, 213, 15, 213],\n",
    "'user2': [54, 54, 119, 119, 119],\n",
    "'user3': [213, 98, 98, 35]}\n",
    "set_1 = set()\n",
    "for i in ids:\n",
    "    for j in ids[i]:\n",
    "        set_1.add(j)\n",
    "print(set_1)"
   ]
  },
  {
   "cell_type": "code",
   "execution_count": 38,
   "id": "86f3137f",
   "metadata": {},
   "outputs": [
    {
     "name": "stdout",
     "output_type": "stream",
     "text": [
      "Поисковых запросов, содержащих 3 слов(а): 57.14%\n",
      "Поисковых запросов, содержащих 2 слов(а): 42.86%\n"
     ]
    }
   ],
   "source": [
    "#Задание_2\n",
    "\n",
    "queries = [\n",
    "'смотреть сериалы онлайн',\n",
    "'новости спорта',\n",
    "'афиша кино',\n",
    "'курс доллара',\n",
    "'сериалы этим летом',\n",
    "'курс по питону',\n",
    "'сериалы про спорт',\n",
    "]\n",
    "dict_1 = {'all':0}\n",
    "for i in queries:\n",
    "    t = i.count(' ')+1\n",
    "    dict_1['all'] = dict_1['all']+1\n",
    "    if t not in dict_1:\n",
    "        dict_1[t]=1\n",
    "    else:\n",
    "        dict_1[t] += 1\n",
    "for i in dict_1:\n",
    "    perc = \"{:.2%}\".format(dict_1[i]/dict_1['all'])\n",
    "    if i != 'all':\n",
    "        print(f'Поисковых запросов, содержащих {i} слов(а): {perc}')"
   ]
  },
  {
   "cell_type": "code",
   "execution_count": 63,
   "id": "4d8c4138",
   "metadata": {},
   "outputs": [
    {
     "name": "stdout",
     "output_type": "stream",
     "text": [
      "{'vk': {'revenue': 103, 'cost': 98, 'ROI': 5.1}, 'yandex': {'revenue': 179, 'cost': 153, 'ROI': 16.99}, 'facebook': {'revenue': 103, 'cost': 110, 'ROI': -6.36}, 'adwords': {'revenue': 35, 'cost': 34, 'ROI': 2.94}, 'twitter': {'revenue': 11, 'cost': 24, 'ROI': -54.17}}\n"
     ]
    }
   ],
   "source": [
    "#Задание_3\n",
    "\n",
    "results = {\n",
    "'vk': {'revenue': 103, 'cost': 98},\n",
    "'yandex': {'revenue': 179, 'cost': 153},\n",
    "'facebook': {'revenue': 103, 'cost': 110},\n",
    "'adwords': {'revenue': 35, 'cost': 34},\n",
    "'twitter': {'revenue': 11, 'cost': 24},\n",
    "}\n",
    "for i in results:\n",
    "    roi = round((results[i]['revenue']/results[i]['cost']-1)*100, 2)\n",
    "    results[i]['ROI']=roi\n",
    "print(results)"
   ]
  },
  {
   "cell_type": "code",
   "execution_count": 67,
   "id": "4b274fcb",
   "metadata": {},
   "outputs": [
    {
     "name": "stdout",
     "output_type": "stream",
     "text": [
      "Максимальный объем продаж на рекламном канале: vk\n"
     ]
    }
   ],
   "source": [
    "#Задание_4\n",
    "\n",
    "stats = {'facebook': 55, 'yandex': 115, 'vk': 120, 'google': 99, 'email': 42, 'ok': 98}\n",
    "k=0\n",
    "for i in stats:\n",
    "    if stats[i]>k:\n",
    "        k=stats[i]\n",
    "        j=i\n",
    "print(f'Максимальный объем продаж на рекламном канале: {j}')\n"
   ]
  },
  {
   "cell_type": "code",
   "execution_count": null,
   "id": "ac096102",
   "metadata": {},
   "outputs": [],
   "source": []
  }
 ],
 "metadata": {
  "kernelspec": {
   "display_name": "Python 3",
   "language": "python",
   "name": "python3"
  },
  "language_info": {
   "codemirror_mode": {
    "name": "ipython",
    "version": 3
   },
   "file_extension": ".py",
   "mimetype": "text/x-python",
   "name": "python",
   "nbconvert_exporter": "python",
   "pygments_lexer": "ipython3",
   "version": "3.8.8"
  }
 },
 "nbformat": 4,
 "nbformat_minor": 5
}

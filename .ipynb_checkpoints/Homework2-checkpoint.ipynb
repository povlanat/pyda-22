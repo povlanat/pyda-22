{
 "cells": [
  {
   "cell_type": "code",
   "execution_count": 18,
   "id": "9c98f024",
   "metadata": {},
   "outputs": [
    {
     "name": "stdout",
     "output_type": "stream",
     "text": [
      "es\n"
     ]
    }
   ],
   "source": [
    "#Задание 1\n",
    "word = 'test'\n",
    "if len(word)%2==0:\n",
    "    print(word[int(len(word)/2-1):int(len(word)/2+1)])\n",
    "else:\n",
    "    print(word[(len(word)//2)])"
   ]
  },
  {
   "cell_type": "code",
   "execution_count": 30,
   "id": "387c6199",
   "metadata": {},
   "outputs": [
    {
     "name": "stdout",
     "output_type": "stream",
     "text": [
      "введите число: 0\n",
      "результат:  0\n"
     ]
    }
   ],
   "source": [
    "#Задание2\n",
    "k=int(input('введите число: '))\n",
    "sum=k\n",
    "while k!=0:\n",
    "    k=int(input('введите число: '))\n",
    "    sum=sum+k\n",
    "print('результат: ', sum)\n",
    "    \n",
    "    "
   ]
  },
  {
   "cell_type": "code",
   "execution_count": 54,
   "id": "4e5fc0fd",
   "metadata": {},
   "outputs": [
    {
     "name": "stdout",
     "output_type": "stream",
     "text": [
      "Идеальные пары:\n",
      "Alex и Emma\n",
      "Arthur и Kate\n",
      "John и Kira\n",
      "Peter и Liza\n",
      "Richard и Trisha\n"
     ]
    }
   ],
   "source": [
    "#Задание3\n",
    "boys = ['Peter', 'Alex', 'John', 'Arthur', 'Richard']\n",
    "girls = ['Kate', 'Liza', 'Kira', 'Emma', 'Trisha']\n",
    "if len(boys)==len(girls):\n",
    "    print('Идеальные пары:')\n",
    "    for i in range(len(boys)):     \n",
    "        print(f\"{sorted(boys)[i]} и {sorted(girls)[i]}\")\n",
    "else:\n",
    "    print('Внимание, кто-то может остаться без пары!')"
   ]
  },
  {
   "cell_type": "code",
   "execution_count": 70,
   "id": "f2297cbd",
   "metadata": {},
   "outputs": [
    {
     "name": "stdout",
     "output_type": "stream",
     "text": [
      "Средняя температура в странах\n",
      "Thailand: 23.9 C\n",
      "Germany: 13.8 C\n",
      "Russia: 3.7 C\n",
      "Poland: 12.0 C\n"
     ]
    }
   ],
   "source": [
    "#Задание4\n",
    "countries_temperature = [\n",
    "['Thailand', [75.2, 77, 78.8, 73.4, 68, 75.2, 77]],\n",
    "['Germany', [57.2, 55.4, 59, 59, 53.6]],\n",
    "['Russia', [35.6, 37.4, 39.2, 41, 42.8, 39.2, 35.6]],\n",
    "['Poland', [50, 50, 53.6, 57.2, 55.4, 55.4]]\n",
    "]\n",
    "print('Средняя температура в странах')\n",
    "for i in range(len(countries_temperature)):\n",
    "    sum=0\n",
    "    for j in range(len(countries_temperature[i][1])):\n",
    "        k=countries_temperature[i][1][j]\n",
    "        sum=sum+k\n",
    "    average_c=(sum/len(countries_temperature[i][1])-32)*5/9\n",
    "    print(f\"{countries_temperature[i][0]}: {round(average_c, 1)} C\")\n",
    "    "
   ]
  }
 ],
 "metadata": {
  "kernelspec": {
   "display_name": "Python 3",
   "language": "python",
   "name": "python3"
  },
  "language_info": {
   "codemirror_mode": {
    "name": "ipython",
    "version": 3
   },
   "file_extension": ".py",
   "mimetype": "text/x-python",
   "name": "python",
   "nbconvert_exporter": "python",
   "pygments_lexer": "ipython3",
   "version": "3.8.8"
  }
 },
 "nbformat": 4,
 "nbformat_minor": 5
}

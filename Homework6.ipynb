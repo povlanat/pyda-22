{
 "cells": [
  {
   "cell_type": "code",
   "execution_count": 5,
   "id": "5dab9e64",
   "metadata": {},
   "outputs": [
    {
     "name": "stdout",
     "output_type": "stream",
     "text": [
      "2002-10-02 00:00:00\n",
      "2013-10-11 00:00:00\n",
      "1977-08-18 00:00:00\n"
     ]
    }
   ],
   "source": [
    "#Задание_1\n",
    "from datetime import datetime\n",
    "The_Moscow_Times_string =  'Wednesday, October 2, 2002'\n",
    "The_Moscow_Times_datetime = datetime.strptime(The_Moscow_Times_string, '%A, %B %d, %Y')\n",
    "print(The_Moscow_Times_datetime)\n",
    "The_Guardian_string = 'Friday, 11.10.13'\n",
    "The_Guardian_datetime = datetime.strptime(The_Guardian_string, '%A, %d.%m.%y')\n",
    "print(The_Guardian_datetime)\n",
    "Daily_News_string = 'Thursday, 18 August 1977'\n",
    "Daily_News_datetime = datetime.strptime(Daily_News_string, '%A, %d %B %Y')\n",
    "print(Daily_News_datetime)"
   ]
  },
  {
   "cell_type": "code",
   "execution_count": 6,
   "id": "aa2aea7d",
   "metadata": {},
   "outputs": [
    {
     "name": "stdout",
     "output_type": "stream",
     "text": [
      "True\n",
      "False\n",
      "False\n"
     ]
    }
   ],
   "source": [
    "#Задание_2\n",
    "stream = ['2018-04-02', '2018-02-29', '2018-19-02']\n",
    "\n",
    "def check_date(d):\n",
    "    try:\n",
    "        d_datetime = datetime.strptime(d, '%Y-%m-%d')\n",
    "        k = True\n",
    "    except:\n",
    "        k = False\n",
    "    return k\n",
    "\n",
    "for date in stream:\n",
    "    print(check_date(date))"
   ]
  },
  {
   "cell_type": "code",
   "execution_count": 8,
   "id": "df08241f",
   "metadata": {},
   "outputs": [
    {
     "data": {
      "text/plain": [
       "[]"
      ]
     },
     "execution_count": 8,
     "metadata": {},
     "output_type": "execute_result"
    }
   ],
   "source": [
    "#Задание_3\n",
    "from datetime import timedelta\n",
    "start_date = '2018-04-02'\n",
    "end_date = '2018-05-02'\n",
    "def date_range(start_date, end_date):\n",
    "    date_list = []\n",
    "    if start_date <= end_date and check_date(start_date) and check_date(end_date):\n",
    "            current_dt = datetime.strptime(start_date, '%Y-%m-%d')\n",
    "            while current_dt.strftime('%Y-%m-%d') <= end_date:\n",
    "                date_list.append(current_dt.strftime('%Y-%m-%d'))\n",
    "                current_dt += timedelta(days=1)\n",
    "    return date_list\n",
    "#date_range(start_date, end_date)\n",
    "date_range('2021-02-30', '2021-02-31')"
   ]
  }
 ],
 "metadata": {
  "kernelspec": {
   "display_name": "Python 3",
   "language": "python",
   "name": "python3"
  },
  "language_info": {
   "codemirror_mode": {
    "name": "ipython",
    "version": 3
   },
   "file_extension": ".py",
   "mimetype": "text/x-python",
   "name": "python",
   "nbconvert_exporter": "python",
   "pygments_lexer": "ipython3",
   "version": "3.8.8"
  }
 },
 "nbformat": 4,
 "nbformat_minor": 5
}
